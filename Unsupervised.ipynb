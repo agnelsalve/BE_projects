
{
  "nbformat": 4,
  "nbformat_minor": 0,
  "metadata": {
    "colab": {
      "name": "Unsupervised.ipynb",
      "provenance": [],
      "collapsed_sections": []
    },
    "kernelspec": {
      "name": "python3",
      "display_name": "Python 3"
    }
  },
  "cells": [
    {
      "cell_type": "markdown",
      "metadata": {
        "id": "ZevlIn-MIjR6"
      },
      "source": [
        "**DATA SCIENCE PROJECTs**\r\n",
        "\r\n",
        "**AUTHOR: Agnel Salve**\r\n",
        "\r\n",
        "**TASK 2: Prediction using Unsupervised ML**\r\n",
        "\r\n",
        "From the given \"Iris\" dataset, predict the optimum number of clusters and represent it visually.\r\n",
        "\r\n",
        "Unsupervised ML is a type of ML that looks for previously undetected patterns in a dataset with no pre-existing labels and with a minimum of human spervision. In contrast to supervised ML that usually makes use of human - labelled data, unspervised ML, also known as self organisation allows for modelling of probability densities over inputs."
      ]
    },
    {
      "cell_type": "markdown",
      "metadata": {
        "id": "k_TUnL6xNFSs"
      },
      "source": [
        "**IMPORT DATASET AND LIBRARIES**"
      ]
    },
    {
      "cell_type": "code",
      "metadata": {
        "id": "j9q-UApIN76s"
      },
      "source": [
        "import numpy as np\r\n",
        "import matplotlib.pyplot as plt\r\n",
        "import pandas as pd \r\n",
        "import seaborn as sns\r\n",
        "sns.set()\r\n",
        "from sklearn import datasets\r\n",
        "from sklearn.cluster import KMeans"
      ],
      "execution_count": null,
      "outputs": []
    },
    {
      "cell_type": "markdown",
      "metadata": {
        "id": "qfvPkOewOiP9"
      },
      "source": [
        "We are reading the Iris dataset using the datasets.load_iris() method and storing the data in a data frame iris_df.After, feeding the data frame iris_df, we use head() method on the dataset to see its first 10 records."
      ]
    },
    {
      "cell_type": "code",
      "metadata": {
        "colab": {
          "base_uri": "https://localhost:8080/",
          "height": 343
        },
        "id": "XTGHW9YfPSmc",
        "outputId": "60e85d00-2bbf-4225-8ecb-011cc9adfb65"
      },
      "source": [
        "iris = datasets.load_iris()\r\n",
        "iris_df = pd.DataFrame(iris.data, columns = iris.feature_names)\r\n",
        "iris_df.head(10)"
      ],
      "execution_count": null,
      "outputs": [
        {
          "output_type": "execute_result",
          "data": {
            "text/html": [
              "<div>\n",
              "<style scoped>\n",
              "    .dataframe tbody tr th:only-of-type {\n",
              "        vertical-align: middle;\n",
              "    }\n",
              "\n",
              "    .dataframe tbody tr th {\n",
              "        vertical-align: top;\n",
              "    }\n",
              "\n",
              "    .dataframe thead th {\n",
              "        text-align: right;\n",
              "    }\n",
              "</style>\n",
              "<table border=\"1\" class=\"dataframe\">\n",
              "  <thead>\n",
              "    <tr style=\"text-align: right;\">\n",
              "      <th></th>\n",
              "      <th>sepal length (cm)</th>\n",
              "      <th>sepal width (cm)</th>\n",
              "      <th>petal length (cm)</th>\n",
              "      <th>petal width (cm)</th>\n",
              "    </tr>\n",
              "  </thead>\n",
              "  <tbody>\n",
              "    <tr>\n",
              "      <th>0</th>\n",
              "      <td>5.1</td>\n",
              "      <td>3.5</td>\n",
              "      <td>1.4</td>\n",
              "      <td>0.2</td>\n",
              "    </tr>\n",
              "    <tr>\n",
              "      <th>1</th>\n",
              "      <td>4.9</td>\n",
              "      <td>3.0</td>\n",
              "      <td>1.4</td>\n",
              "      <td>0.2</td>\n",
              "    </tr>\n",
              "    <tr>\n",
              "      <th>2</th>\n",
              "      <td>4.7</td>\n",
              "      <td>3.2</td>\n",
              "      <td>1.3</td>\n",
              "      <td>0.2</td>\n",
              "    </tr>\n",
              "    <tr>\n",
              "      <th>3</th>\n",
              "      <td>4.6</td>\n",
              "      <td>3.1</td>\n",
              "      <td>1.5</td>\n",
              "      <td>0.2</td>\n",
              "    </tr>\n",
              "    <tr>\n",
              "      <th>4</th>\n",
              "      <td>5.0</td>\n",
              "      <td>3.6</td>\n",
              "      <td>1.4</td>\n",
              "      <td>0.2</td>\n",
              "    </tr>\n",
              "    <tr>\n",
              "      <th>5</th>\n",
              "      <td>5.4</td>\n",
              "      <td>3.9</td>\n",
              "      <td>1.7</td>\n",
              "      <td>0.4</td>\n",
              "    </tr>\n",
              "    <tr>\n",
              "      <th>6</th>\n",
              "      <td>4.6</td>\n",
              "      <td>3.4</td>\n",
              "      <td>1.4</td>\n",
              "      <td>0.3</td>\n",
              "    </tr>\n",
              "    <tr>\n",
              "      <th>7</th>\n",
              "      <td>5.0</td>\n",
              "      <td>3.4</td>\n",
              "      <td>1.5</td>\n",
              "      <td>0.2</td>\n",
              "    </tr>\n",
              "    <tr>\n",
              "      <th>8</th>\n",
              "      <td>4.4</td>\n",
              "      <td>2.9</td>\n",
              "      <td>1.4</td>\n",
              "      <td>0.2</td>\n",
              "    </tr>\n",
              "    <tr>\n",
              "      <th>9</th>\n",
              "      <td>4.9</td>\n",
              "      <td>3.1</td>\n",
              "      <td>1.5</td>\n",
              "      <td>0.1</td>\n",
              "    </tr>\n",
              "  </tbody>\n",
              "</table>\n",
              "</div>"
            ],
            "text/plain": [
              "   sepal length (cm)  sepal width (cm)  petal length (cm)  petal width (cm)\n",
              "0                5.1               3.5                1.4               0.2\n",
              "1                4.9               3.0                1.4               0.2\n",
              "2                4.7               3.2                1.3               0.2\n",
              "3                4.6               3.1                1.5               0.2\n",
              "4                5.0               3.6                1.4               0.2\n",
              "5                5.4               3.9                1.7               0.4\n",
              "6                4.6               3.4                1.4               0.3\n",
              "7                5.0               3.4                1.5               0.2\n",
              "8                4.4               2.9                1.4               0.2\n",
              "9                4.9               3.1                1.5               0.1"
            ]
          },
          "metadata": {
            "tags": []
          },
          "execution_count": 2
        }
      ]
    },
    {
      "cell_type": "code",
      "metadata": {
        "colab": {
          "base_uri": "https://localhost:8080/",
          "height": 297
        },
        "id": "-mqZnluXUrO_",
        "outputId": "6ee39fd9-a927-424c-91a4-53e2f3510cbc"
      },
      "source": [
        "#Performing scatter plot\r\n",
        "x = iris.data\r\n",
        "y = iris.target\r\n",
        "\r\n",
        "plt.scatter(x[:,1], x[:,3], color='yellow',marker='o', edgecolor='black', s=50)\r\n",
        "plt.grid()\r\n",
        "plt.tight_layout()\r\n",
        "plt.show()"
      ],
      "execution_count": null,
      "outputs": [
        {
          "output_type": "display_data",
          "data": {
            "image/png": "[encoded data removed]",
            "text/plain": [
              "<Figure size 432x288 with 1 Axes>"
            ]
          },
          "metadata": {
            "tags": [],
            "needs_background": "light"
          }
        }
      ]
    },
    {
      "cell_type": "markdown",
      "metadata": {
        "id": "Fu2nC91wXWHj"
      },
      "source": [
        "Now, we select all sepal length, sepal width, petal length, and petal width of the datset in a varable called x so that we can train our model. Using iloc function on iris_df, and the column index (0,1,2,3), we get"
      ]
    },
    {
      "cell_type": "code",
      "metadata": {
        "id": "DQLQCOWyX_Mc"
      },
      "source": [
        "x = iris_df.iloc[:, [0,1,2,3]].values"
      ],
      "execution_count": null,
      "outputs": []
    },
    {
      "cell_type": "markdown",
      "metadata": {
        "id": "260lICSDYKAs"
      },
      "source": [
        "We are using the Elbow method, to find the optimal number of clusters."
      ]
    },
    {
      "cell_type": "code",
      "metadata": {
        "colab": {
          "base_uri": "https://localhost:8080/",
          "height": 301
        },
        "id": "e37rMU_LtZSS",
        "outputId": "b70bc3da-8f7b-42bd-de8a-eb89b13ab97d"
      },
      "source": [
        "wcss = []\r\n",
        "\r\n",
        "for i in range(1,11):\r\n",
        "    kmeans = KMeans(n_clusters = i, init ='k-means++',\r\n",
        "                  max_iter = 300, n_init = 10, random_state = 0)\r\n",
        "    kmeans.fit(x)\r\n",
        "    wcss.append(kmeans.inertia_)\r\n",
        "\r\n",
        "#plotting\r\n",
        "plt.plot(range(1,11), wcss)\r\n",
        "plt.title('Elbow method')\r\n",
        "plt.xlabel('No. of Clusters')\r\n",
        "plt.ylabel('WCSS')\r\n",
        "plt.show()"
      ],
      "execution_count": 61,
      "outputs": [
        {
          "output_type": "display_data",
          "data": {
            "image/png": "[encoded data removed]",
            "text/plain": [
              "<Figure size 432x288 with 1 Axes>"
            ]
          },
          "metadata": {
            "tags": [],
            "needs_background": "light"
          }
        }
      ]
    },
    {
      "cell_type": "markdown",
      "metadata": {
        "id": "4WWwnJwI89_Q"
      },
      "source": [
        "Now, we can see the optimal value of k is between 2 and 4."
      ]
    },
    {
      "cell_type": "markdown",
      "metadata": {
        "id": "HiAWenNp9aEs"
      },
      "source": [
        "# **IMPLEMENT K-MEANS CLUSTERING WITH k=3**"
      ]
    },
    {
      "cell_type": "code",
      "metadata": {
        "colab": {
          "base_uri": "https://localhost:8080/"
        },
        "id": "-ICeGQRI9jQH",
        "outputId": "4aa941ea-162d-4bc6-db4a-f1544671b0ca"
      },
      "source": [
        "#Applying k-means\r\n",
        "kmeans = KMeans (n_clusters = 3,init = 'k-means++',\r\n",
        "                 max_iter = 300, n_init = 10, random_state = 0)\r\n",
        "y_kmeans = kmeans.fit_predict(x)\r\n",
        "print(y_kmeans)"
      ],
      "execution_count": 62,
      "outputs": [
        {
          "output_type": "stream",
          "text": [
            "[1 1 1 1 1 1 1 1 1 1 1 1 1 1 1 1 1 1 1 1 1 1 1 1 1 1 1 1 1 1 1 1 1 1 1 1 1\n",
            " 1 1 1 1 1 1 1 1 1 1 1 1 1 2 2 0 2 2 2 2 2 2 2 2 2 2 2 2 2 2 2 2 2 2 2 2 2\n",
            " 2 2 2 0 2 2 2 2 2 2 2 2 2 2 2 2 2 2 2 2 2 2 2 2 2 2 0 2 0 0 0 0 2 0 0 0 0\n",
            " 0 0 2 2 0 0 0 0 2 0 2 0 2 0 0 2 2 0 0 0 0 0 2 0 0 0 0 2 0 0 0 2 0 0 0 2 0\n",
            " 0 2]\n"
          ],
          "name": "stdout"
        }
      ]
    },
    {
      "cell_type": "code",
      "metadata": {
        "colab": {
          "base_uri": "https://localhost:8080/"
        },
        "id": "hqr_DCD__hKW",
        "outputId": "02b24524-d537-4058-931c-708d3ff85465"
      },
      "source": [
        "kmeans.cluster_centers_"
      ],
      "execution_count": 63,
      "outputs": [
        {
          "output_type": "execute_result",
          "data": {
            "text/plain": [
              "array([[6.85      , 3.07368421, 5.74210526, 2.07105263],\n",
              "       [5.006     , 3.428     , 1.462     , 0.246     ],\n",
              "       [5.9016129 , 2.7483871 , 4.39354839, 1.43387097]])"
            ]
          },
          "metadata": {
            "tags": []
          },
          "execution_count": 63
        }
      ]
    },
    {
      "cell_type": "markdown",
      "metadata": {
        "id": "9frKgCgY_yZt"
      },
      "source": [
        "Visualising the three clusters"
      ]
    },
    {
      "cell_type": "code",
      "metadata": {
        "colab": {
          "base_uri": "https://localhost:8080/",
          "height": 287
        },
        "id": "USpuQcZd_wdf",
        "outputId": "59bab57f-d8f2-459d-a592-a2bc5716a696"
      },
      "source": [
        "#First 2 columns\r\n",
        "plt.scatter(x[y_kmeans == 0, 0], x[y_kmeans == 0,1],\r\n",
        "            s=100, c='red', label='Iris-setosa')\r\n",
        "plt.scatter(x[y_kmeans == 1,0], x[y_kmeans == 1,1],\r\n",
        "            s=100, c='blue', label = 'Iris-versicolour')\r\n",
        "plt.scatter(x[y_kmeans == 2, 0], x[y_kmeans == 2 ,1],\r\n",
        "            s=100, c ='green', label ='Iris-virginica')\r\n",
        "\r\n",
        "#centroids\r\n",
        "plt.scatter(kmeans.cluster_centers_[:, 0],kmeans.cluster_centers_[:,1],\r\n",
        "            s = 100, c ='yellow', label =' centroids')\r\n",
        "plt.legend()"
      ],
      "execution_count": 70,
      "outputs": [
        {
          "output_type": "execute_result",
          "data": {
            "text/plain": [
              "<matplotlib.legend.Legend at 0x7f6964474b90>"
            ]
          },
          "metadata": {
            "tags": []
          },
          "execution_count": 70
        },
        {
          "output_type": "display_data",
          "data": {
            "image/png": "[encoded data removed]",
            "text/plain": [
              "<Figure size 432x288 with 1 Axes>"
            ]
          },
          "metadata": {
            "tags": [],
            "needs_background": "light"
          }
        }
      ]
    }
  ]
}
