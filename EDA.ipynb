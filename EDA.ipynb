
{
  "nbformat": 4,
  "nbformat_minor": 0,
  "metadata": {
    "colab": {
      "name": "ASSIGNMENT-13.ipynb",
      "provenance": [],
      "collapsed_sections": []
    },
    "kernelspec": {
      "name": "python3",
      "display_name": "Python 3"
    },
    "language_info": {
      "name": "python"
    }
  },
  "cells": [
    {
      "cell_type": "markdown",
      "metadata": {
        "id": "hxtFHG_7Ef5v"
      },
      "source": [
        "# **Exploratory Data Analysis (EDA) of Titanic Survival Problem.**\n",
        "\n",
        "# **AUTHOR: Agnel Salve**\n",
      ]
    },
    {
      "cell_type": "markdown",
      "metadata": {
        "id": "l5XC6VgAFSEb"
      },
      "source": [
        "<b>Exploratory Data Analysis (EDA) of Titanic Survival Problem.</b>\n",
        "\n",
        "To do the same we will use the Pandas, Seaborn and Matplotlib library.\n",
        "\n",
        "Dataset contains the details of the passengers who had boarded the ship.\n",
        "\n",
        "Dataset can be downloaded from <a href=\"https://www.kaggle.com/c/titanic/data\">Kaggle.</a>"
      ]
    },
    {
      "cell_type": "code",
      "metadata": {
        "id": "VjJQrBvTxMy-"
      },
      "source": [
        "import pandas as pd\n",
        "import seaborn as sns\n",
        "import matplotlib.pyplot as plt\n",
        "import numpy as np"
      ],
      "execution_count": 1,
      "outputs": []
    },
    {
      "cell_type": "code",
      "metadata": {
        "id": "kIIpJfbZIUrG"
      },
      "source": [
        "df = pd.read_csv('/content/gender_submission.csv')"
      ],
      "execution_count": 2,
      "outputs": []
    },
    {
      "cell_type": "markdown",
      "metadata": {
        "id": "fzOWTjf1IkaL"
      },
      "source": [
        "**EDA**"
      ]
    },
    {
      "cell_type": "code",
      "metadata": {
        "colab": {
          "base_uri": "https://localhost:8080/"
        },
        "id": "XI4Gg17pIaPr",
        "outputId": "5da5aa69-d68c-4547-e8e6-249b2812ee36"
      },
      "source": [
        "df.keys() #returns index"
      ],
      "execution_count": 3,
      "outputs": [
        {
          "output_type": "execute_result",
          "data": {
            "text/plain": [
              "Index(['PassengerId', 'Survived'], dtype='object')"
            ]
          },
          "metadata": {
            "tags": []
          },
          "execution_count": 3
        }
      ]
    },
    {
      "cell_type": "code",
      "metadata": {
        "colab": {
          "base_uri": "https://localhost:8080/",
          "height": 203
        },
        "id": "9kxTp9d4IvSu",
        "outputId": "18b9aeb4-5709-4ca6-f9a1-6b91de6518a6"
      },
      "source": [
        "df.tail() #last 5 columns"
      ],
      "execution_count": 4,
      "outputs": [
        {
          "output_type": "execute_result",
          "data": {
            "text/html": [
              "<div>\n",
              "<style scoped>\n",
              "    .dataframe tbody tr th:only-of-type {\n",
              "        vertical-align: middle;\n",
              "    }\n",
              "\n",
              "    .dataframe tbody tr th {\n",
              "        vertical-align: top;\n",
              "    }\n",
              "\n",
              "    .dataframe thead th {\n",
              "        text-align: right;\n",
              "    }\n",
              "</style>\n",
              "<table border=\"1\" class=\"dataframe\">\n",
              "  <thead>\n",
              "    <tr style=\"text-align: right;\">\n",
              "      <th></th>\n",
              "      <th>PassengerId</th>\n",
              "      <th>Survived</th>\n",
              "    </tr>\n",
              "  </thead>\n",
              "  <tbody>\n",
              "    <tr>\n",
              "      <th>413</th>\n",
              "      <td>1305</td>\n",
              "      <td>0</td>\n",
              "    </tr>\n",
              "    <tr>\n",
              "      <th>414</th>\n",
              "      <td>1306</td>\n",
              "      <td>1</td>\n",
              "    </tr>\n",
              "    <tr>\n",
              "      <th>415</th>\n",
              "      <td>1307</td>\n",
              "      <td>0</td>\n",
              "    </tr>\n",
              "    <tr>\n",
              "      <th>416</th>\n",
              "      <td>1308</td>\n",
              "      <td>0</td>\n",
              "    </tr>\n",
              "    <tr>\n",
              "      <th>417</th>\n",
              "      <td>1309</td>\n",
              "      <td>0</td>\n",
              "    </tr>\n",
              "  </tbody>\n",
              "</table>\n",
              "</div>"
            ],
            "text/plain": [
              "     PassengerId  Survived\n",
              "413         1305         0\n",
              "414         1306         1\n",
              "415         1307         0\n",
              "416         1308         0\n",
              "417         1309         0"
            ]
          },
          "metadata": {
            "tags": []
          },
          "execution_count": 4
        }
      ]
    },
    {
      "cell_type": "code",
      "metadata": {
        "colab": {
          "base_uri": "https://localhost:8080/",
          "height": 295
        },
        "id": "G-zJ4stiI2d0",
        "outputId": "987d8d91-d73a-4b79-e1bc-7e58162783b0"
      },
      "source": [
        "df.describe() #statistical data"
      ],
      "execution_count": 5,
      "outputs": [
        {
          "output_type": "execute_result",
          "data": {
            "text/html": [
              "<div>\n",
              "<style scoped>\n",
              "    .dataframe tbody tr th:only-of-type {\n",
              "        vertical-align: middle;\n",
              "    }\n",
              "\n",
              "    .dataframe tbody tr th {\n",
              "        vertical-align: top;\n",
              "    }\n",
              "\n",
              "    .dataframe thead th {\n",
              "        text-align: right;\n",
              "    }\n",
              "</style>\n",
              "<table border=\"1\" class=\"dataframe\">\n",
              "  <thead>\n",
              "    <tr style=\"text-align: right;\">\n",
              "      <th></th>\n",
              "      <th>PassengerId</th>\n",
              "      <th>Survived</th>\n",
              "    </tr>\n",
              "  </thead>\n",
              "  <tbody>\n",
              "    <tr>\n",
              "      <th>count</th>\n",
              "      <td>418.000000</td>\n",
              "      <td>418.000000</td>\n",
              "    </tr>\n",
              "    <tr>\n",
              "      <th>mean</th>\n",
              "      <td>1100.500000</td>\n",
              "      <td>0.363636</td>\n",
              "    </tr>\n",
              "    <tr>\n",
              "      <th>std</th>\n",
              "      <td>120.810458</td>\n",
              "      <td>0.481622</td>\n",
              "    </tr>\n",
              "    <tr>\n",
              "      <th>min</th>\n",
              "      <td>892.000000</td>\n",
              "      <td>0.000000</td>\n",
              "    </tr>\n",
              "    <tr>\n",
              "      <th>25%</th>\n",
              "      <td>996.250000</td>\n",
              "      <td>0.000000</td>\n",
              "    </tr>\n",
              "    <tr>\n",
              "      <th>50%</th>\n",
              "      <td>1100.500000</td>\n",
              "      <td>0.000000</td>\n",
              "    </tr>\n",
              "    <tr>\n",
              "      <th>75%</th>\n",
              "      <td>1204.750000</td>\n",
              "      <td>1.000000</td>\n",
              "    </tr>\n",
              "    <tr>\n",
              "      <th>max</th>\n",
              "      <td>1309.000000</td>\n",
              "      <td>1.000000</td>\n",
              "    </tr>\n",
              "  </tbody>\n",
              "</table>\n",
              "</div>"
            ],
            "text/plain": [
              "       PassengerId    Survived\n",
              "count   418.000000  418.000000\n",
              "mean   1100.500000    0.363636\n",
              "std     120.810458    0.481622\n",
              "min     892.000000    0.000000\n",
              "25%     996.250000    0.000000\n",
              "50%    1100.500000    0.000000\n",
              "75%    1204.750000    1.000000\n",
              "max    1309.000000    1.000000"
            ]
          },
          "metadata": {
            "tags": []
          },
          "execution_count": 5
        }
      ]
    },
    {
      "cell_type": "code",
      "metadata": {
        "colab": {
          "base_uri": "https://localhost:8080/",
          "height": 417
        },
        "id": "TfCGpBSOJNkH",
        "outputId": "cc2e723e-b32a-4b6a-93de-2eaf9f34a564"
      },
      "source": [
        "df.isnull() #check null values"
      ],
      "execution_count": 6,
      "outputs": [
        {
          "output_type": "execute_result",
          "data": {
            "text/html": [
              "<div>\n",
              "<style scoped>\n",
              "    .dataframe tbody tr th:only-of-type {\n",
              "        vertical-align: middle;\n",
              "    }\n",
              "\n",
              "    .dataframe tbody tr th {\n",
              "        vertical-align: top;\n",
              "    }\n",
              "\n",
              "    .dataframe thead th {\n",
              "        text-align: right;\n",
              "    }\n",
              "</style>\n",
              "<table border=\"1\" class=\"dataframe\">\n",
              "  <thead>\n",
              "    <tr style=\"text-align: right;\">\n",
              "      <th></th>\n",
              "      <th>PassengerId</th>\n",
              "      <th>Survived</th>\n",
              "    </tr>\n",
              "  </thead>\n",
              "  <tbody>\n",
              "    <tr>\n",
              "      <th>0</th>\n",
              "      <td>False</td>\n",
              "      <td>False</td>\n",
              "    </tr>\n",
              "    <tr>\n",
              "      <th>1</th>\n",
              "      <td>False</td>\n",
              "      <td>False</td>\n",
              "    </tr>\n",
              "    <tr>\n",
              "      <th>2</th>\n",
              "      <td>False</td>\n",
              "      <td>False</td>\n",
              "    </tr>\n",
              "    <tr>\n",
              "      <th>3</th>\n",
              "      <td>False</td>\n",
              "      <td>False</td>\n",
              "    </tr>\n",
              "    <tr>\n",
              "      <th>4</th>\n",
              "      <td>False</td>\n",
              "      <td>False</td>\n",
              "    </tr>\n",
              "    <tr>\n",
              "      <th>...</th>\n",
              "      <td>...</td>\n",
              "      <td>...</td>\n",
              "    </tr>\n",
              "    <tr>\n",
              "      <th>413</th>\n",
              "      <td>False</td>\n",
              "      <td>False</td>\n",
              "    </tr>\n",
              "    <tr>\n",
              "      <th>414</th>\n",
              "      <td>False</td>\n",
              "      <td>False</td>\n",
              "    </tr>\n",
              "    <tr>\n",
              "      <th>415</th>\n",
              "      <td>False</td>\n",
              "      <td>False</td>\n",
              "    </tr>\n",
              "    <tr>\n",
              "      <th>416</th>\n",
              "      <td>False</td>\n",
              "      <td>False</td>\n",
              "    </tr>\n",
              "    <tr>\n",
              "      <th>417</th>\n",
              "      <td>False</td>\n",
              "      <td>False</td>\n",
              "    </tr>\n",
              "  </tbody>\n",
              "</table>\n",
              "<p>418 rows × 2 columns</p>\n",
              "</div>"
            ],
            "text/plain": [
              "     PassengerId  Survived\n",
              "0          False     False\n",
              "1          False     False\n",
              "2          False     False\n",
              "3          False     False\n",
              "4          False     False\n",
              "..           ...       ...\n",
              "413        False     False\n",
              "414        False     False\n",
              "415        False     False\n",
              "416        False     False\n",
              "417        False     False\n",
              "\n",
              "[418 rows x 2 columns]"
            ]
          },
          "metadata": {
            "tags": []
          },
          "execution_count": 6
        }
      ]
    },
    {
      "cell_type": "code",
      "metadata": {
        "colab": {
          "base_uri": "https://localhost:8080/"
        },
        "id": "sri8txpfJeNs",
        "outputId": "b4745447-c21e-49da-facf-1a7778cd0e09"
      },
      "source": [
        "df.shape"
      ],
      "execution_count": 8,
      "outputs": [
        {
          "output_type": "execute_result",
          "data": {
            "text/plain": [
              "(418, 2)"
            ]
          },
          "metadata": {
            "tags": []
          },
          "execution_count": 8
        }
      ]
    },
    {
      "cell_type": "code",
      "metadata": {
        "colab": {
          "base_uri": "https://localhost:8080/"
        },
        "id": "ZQyCojLXJiKw",
        "outputId": "0998ae5e-da6a-4cb3-e313-957469e00305"
      },
      "source": [
        "df.dtypes"
      ],
      "execution_count": 10,
      "outputs": [
        {
          "output_type": "execute_result",
          "data": {
            "text/plain": [
              "PassengerId    int64\n",
              "Survived       int64\n",
              "dtype: object"
            ]
          },
          "metadata": {
            "tags": []
          },
          "execution_count": 10
        }
      ]
    },
    {
      "cell_type": "code",
      "metadata": {
        "colab": {
          "base_uri": "https://localhost:8080/"
        },
        "id": "t1bx_bP6J-UY",
        "outputId": "eb994775-f6a4-4250-d0c3-bacd815bdb44"
      },
      "source": [
        "df.columns"
      ],
      "execution_count": 11,
      "outputs": [
        {
          "output_type": "execute_result",
          "data": {
            "text/plain": [
              "Index(['PassengerId', 'Survived'], dtype='object')"
            ]
          },
          "metadata": {
            "tags": []
          },
          "execution_count": 11
        }
      ]
    },
    {
      "cell_type": "code",
      "metadata": {
        "colab": {
          "base_uri": "https://localhost:8080/"
        },
        "id": "-N7DNCasKENU",
        "outputId": "f1bca504-c8ba-4279-f8d4-5bba29820057"
      },
      "source": [
        "df.items #Iterates over the DataFrame columns, returning a tuple with the column name and the content as a Series."
      ],
      "execution_count": 12,
      "outputs": [
        {
          "output_type": "execute_result",
          "data": {
            "text/plain": [
              "<bound method DataFrame.items of      PassengerId  Survived\n",
              "0            892         0\n",
              "1            893         1\n",
              "2            894         0\n",
              "3            895         0\n",
              "4            896         1\n",
              "..           ...       ...\n",
              "413         1305         0\n",
              "414         1306         1\n",
              "415         1307         0\n",
              "416         1308         0\n",
              "417         1309         0\n",
              "\n",
              "[418 rows x 2 columns]>"
            ]
          },
          "metadata": {
            "tags": []
          },
          "execution_count": 12
        }
      ]
    },
    {
      "cell_type": "code",
      "metadata": {
        "colab": {
          "base_uri": "https://localhost:8080/",
          "height": 417
        },
        "id": "DSZ8g4VqKr8T",
        "outputId": "ee95e6a9-4f2e-40cb-d092-ea046182d6aa"
      },
      "source": [
        "df.isna() #to detect missing values"
      ],
      "execution_count": 13,
      "outputs": [
        {
          "output_type": "execute_result",
          "data": {
            "text/html": [
              "<div>\n",
              "<style scoped>\n",
              "    .dataframe tbody tr th:only-of-type {\n",
              "        vertical-align: middle;\n",
              "    }\n",
              "\n",
              "    .dataframe tbody tr th {\n",
              "        vertical-align: top;\n",
              "    }\n",
              "\n",
              "    .dataframe thead th {\n",
              "        text-align: right;\n",
              "    }\n",
              "</style>\n",
              "<table border=\"1\" class=\"dataframe\">\n",
              "  <thead>\n",
              "    <tr style=\"text-align: right;\">\n",
              "      <th></th>\n",
              "      <th>PassengerId</th>\n",
              "      <th>Survived</th>\n",
              "    </tr>\n",
              "  </thead>\n",
              "  <tbody>\n",
              "    <tr>\n",
              "      <th>0</th>\n",
              "      <td>False</td>\n",
              "      <td>False</td>\n",
              "    </tr>\n",
              "    <tr>\n",
              "      <th>1</th>\n",
              "      <td>False</td>\n",
              "      <td>False</td>\n",
              "    </tr>\n",
              "    <tr>\n",
              "      <th>2</th>\n",
              "      <td>False</td>\n",
              "      <td>False</td>\n",
              "    </tr>\n",
              "    <tr>\n",
              "      <th>3</th>\n",
              "      <td>False</td>\n",
              "      <td>False</td>\n",
              "    </tr>\n",
              "    <tr>\n",
              "      <th>4</th>\n",
              "      <td>False</td>\n",
              "      <td>False</td>\n",
              "    </tr>\n",
              "    <tr>\n",
              "      <th>...</th>\n",
              "      <td>...</td>\n",
              "      <td>...</td>\n",
              "    </tr>\n",
              "    <tr>\n",
              "      <th>413</th>\n",
              "      <td>False</td>\n",
              "      <td>False</td>\n",
              "    </tr>\n",
              "    <tr>\n",
              "      <th>414</th>\n",
              "      <td>False</td>\n",
              "      <td>False</td>\n",
              "    </tr>\n",
              "    <tr>\n",
              "      <th>415</th>\n",
              "      <td>False</td>\n",
              "      <td>False</td>\n",
              "    </tr>\n",
              "    <tr>\n",
              "      <th>416</th>\n",
              "      <td>False</td>\n",
              "      <td>False</td>\n",
              "    </tr>\n",
              "    <tr>\n",
              "      <th>417</th>\n",
              "      <td>False</td>\n",
              "      <td>False</td>\n",
              "    </tr>\n",
              "  </tbody>\n",
              "</table>\n",
              "<p>418 rows × 2 columns</p>\n",
              "</div>"
            ],
            "text/plain": [
              "     PassengerId  Survived\n",
              "0          False     False\n",
              "1          False     False\n",
              "2          False     False\n",
              "3          False     False\n",
              "4          False     False\n",
              "..           ...       ...\n",
              "413        False     False\n",
              "414        False     False\n",
              "415        False     False\n",
              "416        False     False\n",
              "417        False     False\n",
              "\n",
              "[418 rows x 2 columns]"
            ]
          },
          "metadata": {
            "tags": []
          },
          "execution_count": 13
        }
      ]
    },
    {
      "cell_type": "markdown",
      "metadata": {
        "id": "TIGyxR6oLXtC"
      },
      "source": [
        "**VISUALIZATION**"
      ]
    },
    {
      "cell_type": "code",
      "metadata": {
        "colab": {
          "base_uri": "https://localhost:8080/",
          "height": 286
        },
        "id": "ctm4JXAUK4tu",
        "outputId": "7e451508-9ebf-4f40-d05c-b28f7717f60e"
      },
      "source": [
        "sns.heatmap(df.isnull())"
      ],
      "execution_count": 18,
      "outputs": [
        {
          "output_type": "execute_result",
          "data": {
            "text/plain": [
              "<matplotlib.axes._subplots.AxesSubplot at 0x7f8f81f71dd0>"
            ]
          },
          "metadata": {
            "tags": []
          },
          "execution_count": 18
        },
        {
          "output_type": "display_data",
          "data": {
            "image/png": "iVBORw0KGgoAAAANSUhEUgAAAXsAAAD8CAYAAACW/ATfAAAABHNCSVQICAgIfAhkiAAAAAlwSFlzAAALEgAACxIB0t1+/AAAADh0RVh0U29mdHdhcmUAbWF0cGxvdGxpYiB2ZXJzaW9uMy4yLjIsIGh0dHA6Ly9tYXRwbG90bGliLm9yZy+WH4yJAAAgAElEQVR4nO3df7xVdZ3v8dc7UDQrFE1ixC6UmIOWpIR2m8rUkBwTb6nppcLCGBvth3Wvac2IWs0Dq9H0Vt4ho1GvKYZmTKMRoozlQxRUFNEMQkvwBylomvmDcz73j/XdsDjufc7aPw5nsff72WM9ztprfdfa6+Dpu9f+ru/n81FEYGZm7e01A30BZmbW/9zZm5l1AHf2ZmYdwJ29mVkHcGdvZtYB3NmbmXWAfuvsJU2S9JCkVZLO7K/3MTMbSH31dZLeJ+luSRslHdtj31RJK9MyNbf9QEnL0zkvlqRmr7NfOntJg4DvAx8CxgInShrbH+9lZjZQCvZ1fwROAn7S49hhwAzgIGACMEPSLmn3JcBngDFpmdTstfbXnf0EYFVErI6Il4Grgcn99F5mZgOlz74uIh6JiPuA7h7HHgEsiIj1EbEBWABMkjQCeENELI4s6vVy4JhmL3RwsyeoYQ/g0dzrNWSfXlUtHXmMw3jNrJDxa65vekjjladWF+5ztn/jW/8BmJ7bNCsiZqX1uvq6Hqodu0da1lTZ3pQBe0ArabqkpZKWXveXRwbqMszMehURsyJifG6Z1fdR5dNfnf1aYM/c65Fp2yb5f8CP7DSqny7DzKyK7q7iS+/67OsaOHZtWm/knDX1V2e/BBgjabSk7YETgHn99F5mZvXp2lh86V0zfd18YKKkXdKD2YnA/Ih4HPizpIPTLJxPAj9v7BfdrF86+4jYCJxG9ss8CFwTESv6473MzOoV0V146f081fs6SedJOhpA0rskrQGOA/5N0op07Hrg62QfGEuA89I2gH8ELgVWAb8Hbmz2d1YZUhz7Aa2ZFdWKB7Qvr1le/AHtyLc3/X5l0F+zcczMyquPO/Z25M7ezDpP3w9e207DY/aS9pR0i6QHJK2Q9IW0fZikBSn8d0EuIszMrByiu/jSJpp5QLsR+HJEjAUOBk5NYcJnAgsjYgywML02MyuN6NpYeGkXDXf2EfF4RNyd1p8jexK9B1mo8GWp2WW0IMzXzKyluruLL22iJVMvJY0C3gncAQxP80QBngCG1zjGEbRmNjA6cBin6Qe0kl4HXAt8MSL+nM/EGREhqeoUpxRyPAs89dLMtrIOfEDbVGcvaTuyjv7KiLgubX5S0oiIeDxlb1vX7EWambVUG92xF9XMbBwBPwIejIgLcrvmAZUk/FNpQZivmVlLtS5dwjajmTv79wCfAJZLWpa2fRWYCVwjaRrwB+D45i7RzKzF2ujBa1ENd/YR8RugVhjxYY2e18ysv0V4zN7MrP15zL5+kgZJukfSL9Lr0ZLuSIVy56S0n2Zm5eF59g35AllAVcX5wIURsRewAZjWgvcwM2udDpxn31RnL2kk8PdkeZcrM3QOBeamJo6gNbPy6Xql+NImmr2z/y5wBpurpu8KPJMS+kMvhXIdQWtmA8bDOMVJOgpYFxF3NXK8a9Ca2YDpwGGcZufZHy3pSGAH4A3ARcDOkganu/uWFMo1M2upNrpjL6qZrJdnRcTIiBhFVmT35oiYAtwCHJuaOYLWzMqnhcM4kiZJeijNQHxVSndJQ9LMxFVppuKotH2KpGW5pVvSuLRvUTpnZd/uzf7K/VFw/CvAlyStIhvD/1E/vIeZWcOi65XCS28kDQK+D3wIGAucmOp65E0DNqQZiheSzVgkIq6MiHERMY4sG8HDEbEsd9yUyv6IaDrHWEuCqiJiEbAora8GJrTivGZm/aJ1Y/ETgFWp30PS1WQ1PR7ItZkMnJPW5wLfk6SIyGf7PRG4ulUXVU1/3NmbmZVb64Zx9gAezb2uNgNxU5v0LPNZslGPvI8BV/XY9uM0hPPPyueOb5A7ezPrPHXMxslPE0/L9FZeiqSDgBci4v7c5ikR8XbgvWn5RLPv02w++53JAqr2AwL4NPAQMAcYBTwCHB8RG5q6SjOzVqpjNk6+0FIVa4E9c6+rzUCstFkjaTAwFHg6t/8EetzVR8Ta9PM5ST8hGy66vPBFV9Hsnf1FwC8jYh9gf7K0CS44bmbl1rp59kuAMSkn2PZkHfe8Hm3yNT6OJZu5GACSXkOWBn7TeL2kwZJ2S+vbAUcB99Okhu/sJQ0F3gecBBARLwMvS5oMHJKaXUb24PYrzVykmVlLbWxNUZKI2CjpNGA+MAiYHRErJJ0HLI2IeWQzEq9IMxTXk30gVLwPeLTygDcZAsxPHf0g4Cbgh81eazPDOKOBP5E9RNgfuIssKVrhguPAdICzdt4fR9Ga2VbTwsjYiLgBuKHHtrNz6y8Cx9U4dhFwcI9tfwEObNkFJs0M4wwGDgAuiYh3An+hx5BN+qpSs+C40yWY2YBwbpy6rAHWRMQd6fVcss7/yVRoHBccN7NS6sDcOM2kS3gCeFTS29Kmw8gCCVxw3MzKrQPv7JuNoP0ccGV6Cr0a+BTZB4gLjptZebXRHXtRTXX2KY/D+Cq7XHDczMqrRbNxtiUuOG5mnSeqzhtpa82WJTxd0gpJ90u6StIOLjhuZqXXgWP2zVSq2gP4PDA+IvYjm/x/Ai44bmZl586+boOBHVO+h9cCj+OC42ZWdp56WVxK1PMd4I9knfyzZFG0LjhuZuXW1VV8aRPNDOPsQpaUfzTwN8BOwKSixzuC1swGTAcO4zQzG+dwsjJafwKQdB1ZEXIXHDezcmujTryoZsbs/wgcLOm1qYpKJYLWBcfNrNw8Zl9cyokzF7gbWJ7ONQsXHDezkovuKLy0i2YjaGcAM3psXo0LjptZmXXgMI4jaM2s87TRLJui+hzGkTRb0jpJ9+e2DZO0QNLK9HOXtF2SLk7Rs/dJOqA/L97MrCEdOBunyJj9v/PqKZW16sx+CBiTlunAJa25TDOzFnJn/2oRcStZ3cS8yWTRsbBllOxk4PLILCabhjmiVRdrZtYSEcWXNtHobJxadWb3AB7NtasZQWtmNmBaeGcvaZKkh9Lw9ZlV9g9JSSFXpSSRo9L2UZL+KmlZWv5v7pgDJS1Px1ycprc3pdncOL3Wme2N0yWY2YDpjuJLLyQNAr5PNoQ9FjhR0tgezaYBG1JyyAvJkkVW/D4ixqXllNz2S4DPsHlYvHB2gloa7exr1ZldC+yZa1czgtbpEsxswLQuN84EYFVErI6Il4GryYaz8/LD3nOBw3q7U0996hsiYnG6mb6cFiSUbLSzr1Vndh7wyTQr52Dg2dxwj5lZKUR3d+ElPwqRlum5UxUZut7UJqWReZYs4BRgtKR7JP2XpPfm2q/p45x163OevaSrgEOA3SStIQuimkn1OrM3AEcCq4AXyGrSmpmVSx2RsRExiyw7QKs9Drw5Ip6WdCBwvaR9++F9gAKdfUScWGPXq+rMpq8cpzZ7UWZm/ap1OW+KDF1X2qxJtT+GAk+n/vIlgIi4S9Lvgb1T+5F9nLNuTT+gNTPb5rToAS2wBBiTyrFuT1atb16PNvlh72OBmyMiJL0xPeBF0lvIHsSuTkPff5Z0cBrb/yQtSCjpdAlm1nk2tiZdQkRslHQaMJ+sNOvsiFgh6TxgaUTMI0sGeUVKDrme7AMB4H3AeZJeAbqBUyKiEtP0j2QBrTsCN6alKUXG7GcDRwHrUq1ZJH0b+DDwMvB74FMR8UzadxbZVKMu4PMRMb/ZizQza6kWpi6OiBvInlfmt52dW38ROK7KcdcC19Y451Jgv5ZdJI2nS1gA7BcR7wB+B5wFkOaXngDsm475QeVriplZabRuGGeb0VC6hIj4Va7O7GI2P0yYDFwdES9FxMNks3Kc7tjMSqWeqZftohUPaD/N5vGkwukSHEFrZgOmA+/sm3pAK+lrwEbgynqPzc9dXTrymPb5FzWz8mujTryohjt7SSeRPbg9LM0XhTrSJZiZDRgXLylG0iTgDODoiHght2secELK8jaabN7onc1fpplZ67gGbRU10iWcBQwBFqR8Posj4pQ0v/Qa4AGy4Z1TI6LzPkLNrNzaqBMvqtF0CT/qpf03gW82c1FmZv2qjWbZFOUIWjPrPB14Z99QwfHcvi9LCkm7pdcuOG5m5deBUy8bjaBF0p7AROCPuc0uOG5mpRdd3YWXdtFowXHIymudwZYlCV1w3MzKz3f2xUiaDKyNiHt77HIErZmVnqdeFiDptcBXyYZwGuYIWjMbMG3UiRfVyGyctwKjgXvTHPuRwN2SJuAIWjPbFrTPUHxhdXf2EbEc2L3yWtIjwPiIeErSPOA0SVcDB+GC42ZWQrGx83r7IlMvrwJuB94maU0qMl7LDcBqstTGPySrtmJmVi7ddSxtopmC45X9o3LrLjhuZqXXTg9ei3LBcTPrPC28s5c0SdJDKZj0zCr7h0iak/bfIWlU2v5BSXdJWp5+Hpo7ZlE657K07N7zvPVyugQz6ziturNPZVe/D3yQbKr5EknzIuKBXLNpwIaI2EvSCcD5wMeAp4APR8RjkvYjK1qen6o+JdWibYmG0yVI+pyk30paIelbue1npU+whyQd0aoLNTNrmdbd2U8AVkXE6oh4GbiaLLg0bzJwWVqfCxwmSRFxT0Q8lravAHaUNKSZX6s3DaVLkPQBsl9g/4jYF/hO2u6C42ZWerGx+JIPAE3L9NypigSSbmqTanc/C+zao81Hgbsj4qXcth+nIZx/Vprn3owiD2hvrYwx5XwWmFm5sIhYl7ZvKjgOPCypUnD89mYv1MysVaKOWTb5AND+IGlfsqGdfKDqlIhYK+n1wLXAJ4DLm3mfRh/Q7g28Nz1s+C9J70rbnS7BzMqvdcM4RQJJN7WRNBgYCjydXo8EfgZ8MiJ+XzkgItamn88BPyG7aW5Ko539YGAYcDDwv4Fr6v2aERGzImJ8RIz/yE6jGrwMM7P6RXfxpQ9LgDGSRkvanmwYe16PNvOAqWn9WODmiAhJOwP/CZwZEbdVGksanEsbvx1Zre9XpZivV6OzcdYA16V59XdK6gZ2w+kSzGwbUM8wTq/nidgo6TSymTSDgNmpPOt5wNKImEdW2e+KNKy9nuwDAeA0YC/gbElnp20Tgb8A81NHPwi4iSxItSmNdvbXAx8AbpG0N7A92TSiecBPJF0A/A0uOG5mJRRdTT/v3HyuiBvIsgfkt52dW38ROK7Kcd8AvlHjtAe27AKTRguOzwZmp+mYLwNT012+C46bWem16s5+W9JMuoSP12jvguNmVmrR3bo7+22FI2jNrON04p19QxG0ksZJWpwm/C9NuexdcNzMtgkRKry0i0YLjn8LODcixgFnp9fgguNmtg1o4dTLbUajEbQBvCGtDwUq+R02FRwHFkvaWdIIFzAxszLpbuFsnG1Fo0FVXwS+LelRsrw4Z6XtjqA1s9KLbhVe2kWjnf1ngdMjYk/gdLKggbo4gtbMBoo7++KmAtel9Z+yOW+DI2jNrPQiii/totHO/jHg/Wn9UGBlWp8HfDLNyjkYFxw3sxLqxDv7RiNoPwNclDK4vUg28waykOEjyQqOvwB8qh+u2cysKe00pbKoZiJoX5W7wQXHzWxb0NWBs3EcQWtmHacT7+yLRNDuKekWSQ+kerNfSNuHSVogaWX6uUva7ihaMyu1ThyzL/KAdiPw5YgYS1as5NRUa/ZMYGFEjAEWptfgKFozKznPxqkiIh6PiLvT+nPAg2SBUvmK6ZcBx6T1TVG0EbEY2FnSiJZfuZlZgzrxzr6uMfuUNuGdwB3A8Ny0yieA4Wm9VhStp2CaWSl0dTc663zbVfg3lvQ6sirnX4yIP+f3pVk4dX3hcboEMxsoHsapIdVCvBa4MiIqkbNPVoZn0s91aXuhKFqnSzCzgdIdKrz0RdIkSQ+lSSlnVtk/RNKctP+OfGJJSWel7Q9JOqLoORtRZDaOyHLfPBgRF+R25SumTwV+ntvuKFozK61W5bOXNAj4PtnElLHAiWkCS940YENE7AVcCJyfjh1LVnx8X7I08j+QNKjgOetWZMz+PcAngOWSlqVtXwVmAtdImgb8ATg+7XMUrZmVWguHZyYAqyJiNYCkq8kmqTyQazMZOCetzwW+l26iJwNXR8RLwMOSVrE5z1hf56xbkQja3wC1Pt4Oq9LeUbRmVmpFhmcqJE1nc0oYgFkRMSutV5uQclCPU2xqExEbJT0L7Jq2L+5xbCUlfF/nrJsjaM2s49QzGyd17LP6bFhy7uzNrOO0cJJNkQkplTZrUvLIocDTfRzb8lTxzaRL+Lak36aUCD+TtHPumKpPmM3MyqCFs3GWAGMkjZa0PdkD13k92uQnsxwL3JyGu+cBJ6TZOqPJsg7cWfCcdStyZ19Jl3C3pNcDd0laACwAzkpjUOeTlSb8So8nzH8D3CRp74joavZizcxaoVWJ0FL/dxowHxgEzI6IFZLOA5ZGxDyy2YxXpAew68n6R1K7a8gevG4ETq30k9XO2ey1FnlA+zgp+jUinpP0ILBHRPwq12wx2ScW1H7CfHuzF2tm1grdLTxXRNxANgsxv+3s3PqLwHE1jv0m8M0i52xWXTHDPdIl5H0auDGtFyo67ghaMxsogQov7aLwA9pa6RIkfY3sK8iV9bxx/gn30pHHtFFQspmV3cYOzGdfqLOvkS4BSScBRwGHpQcO4KLjZlZy7XTHXlTD6RIkTQLOAI6OiBdyh9R6wmxmVgrddSztopl0CRcDQ4AF2ecBiyPilN6eMJuZlUEn3tk3ky6h5pPiWk+YzczKoJ3u2ItyBK2ZdZyuDryzbziCNrf/y5JC0m7ptQuOm1mpdav40i4ajqCNiAck7QlMBP6Ya58vOH4QWcHxpjO2mZm1Srfv7F+tl4LjkCXiP4Mt8wq54LiZlVrUsbSLhiNoJU0G1kbEvT2aOYLWzErNUy97kY+gJRva+SrZEE5DHEFrZgOlW503jNNQBK2ktwOjgXvTHPuRwN2SJuAIWjMruU4M/GkogjYilkfE7hExKiJGkQ3VHBART+CC42ZWcp6NU13VCNqUgrMaFxw3s1LrxNk4zRYcr7QZlVt3wXEzK7VOfEjoCFoz6zjtNDxTlDt7M+s47TSlsqim0iVI+lwqOr5C0rdy211w3MxKq0vFl2ZIGiZpgaSV6ecuNdpNTW1WSpqatr1W0n/m+tiZufYnSfqTpGVpObmva2mm4PhwsmjZ/SPiJUm7p4twwXEzK7WteGd/JrAwImZKOjO9/kq+gaRhwAxgPNnjhLskzQNeAr4TEbdI2h5YKOlDEVEpATsnIk4reiHNpEv4LDAzFRYnItalQzYVHI+Ih8lm5UwoekFmZv1tK0bQTgYuS+uXAcdUaXMEsCAi1kfEBmABMCkiXoiIWwAi4mXgbrK4pYY0U3B8b+C9ku6Q9F+S3pWaOV2CmZVaqPiS76vSMr2OtxqeizN6gmxEpKc++0xJOwMfBhbmNn80ZRaem5JS9qrhguOSBgPDgIOBdwHXSHpL0fM5XYKZDZR67tjzfVU1km4C3lRl19d6nCck1d3Xpb72KuDiiFidNv8HcFUaQv8Hsm8Nh/Z2nmYKjq8Brkvz6u+U1A3shtMlmFnJtfIBYkQcXmufpCcljYiIx1P233VVmq0FDsm9Hgksyr2eBayMiO/m3vPp3P5LgW/Rh4YLjgPXAx9IbfYGtgeewgXHzazktmK6hHnA1LQ+Ffh5lTbzgYmSdkmzdSambUj6BjCULAHlJj3Sxh9N9iy1V80UHJ8NzJZ0P/AyMDXd5bvguJmV2lacjTOTbIh7GvAH4HgASeOBUyLi5IhYL+nrwJJ0zHlp20iyoaDfkiWaBPheRFwKfF7S0WR97HrgpL4uRFn/PLA8Zm9mRY1fc33T99v/+uaPF+5zvvzH/9cW8baOoDWzjtOJd5cNR9BKGidpcYreWppy2bvguJmVnlMcV1crgvZbwLkRcaOkI9PrQ3DBcTMruU58iFgkxfHjwONp/TlJlQjaAN6Qmg0FHkvrmwqOA4sl7VyZetTyqzcza0B3Bw7kNBNB+0Xg25IeBb4DnJWaOYLWzEqtEwuOF+7se0bQkuXGOT0i9gROJ5uLX1hEzIqI8REx/iM7jarnUDOzpkQdS7so1NnXiKCdClTWf8rmZGeOoDWzUvOdfRW9RNA+Brw/rR8KrEzrLjhuZqW2UVF4aRfNRNB+BrgoJel5EahkgnPBcTMrtfbpwotrtuD4gVXau+C4mZVaOw3PFOUIWjPrOJ049dKdvZl1nM7r6os9oN1B0p2S7k3pEs5N20enKlWrJM1JNRJJqY3npO13pLn5Zmal4dk41b0EHBoR+wPjgElpls35wIURsRewAZiW2k8DNqTtF6Z2Zmal0UUUXtpFkYLjERHPp5fbpSXIplvOTdvzhXTzBXbnAoel6ZtmZqXgO/saJA1K0y7XkVU+/z3wTERsTE3yKRE2pUtI+58Fdq1yTqdLMLMBEXX8r10U6uwjoisixpFFw04A9mn2jZ0uwcwGiu/s+xARzwC3AO8Gdk4BVbBlSoRN6RLS/qHA05iZlUQ3UXhpF0Vm47xR0s5pfUfgg2TFbW8Bjk3N8oV08wV2jwVujjLUPjQzS7ZWIjRJwyQtkLQy/dylRrupqc1KSVNz2xdJeigViVomafe0ve5Zj0Xu7EcAt0i6j6wg7oKI+AXwFeBLklaRjclXsl7+CNg1bf8ScGaB9zAz22o2EoWXJp0JLIyIMcBCqvSHkoYBM8iKPE0AZvT4UJgSEePSsi5tq3vWY5F0CfeR5bDvuX01mzNd5re/CBzX13nNzAbKVnzwOpmsgh9ksxQXkd0o5x1BdhO9HiBVApwEXNXHec9J63OB70lSb6ModY3Zm5m1g3oe0OZnDqZleo3TVjM8l/X3CWB4lTZ9FXz6cRrC+efcNPZCsx7z+ryzl7QDcCswJLWfGxEzJF0JjAdeAe4E/iEiXkkXcxFZ5ssXgJMi4u6+3sfMbGup584+ImYBs2rtl3QT8KYqu77W4zwh1Z0zeUpErE31v68ly0B8eZ3nAJqLoL2SbArm24EdgZNT+3zB8elkBcfNzEqjlVMvI+LwiNivyvJz4ElJIwDSz3VVTlGz4FNEVH4+B/yEKkWiis56bDiCNiJuSPuC7M5+ZGqzqeB4RCwmm6I5oq/3MTPbWroiCi9Nys9OzM9azJsPTJS0S3owOxGYL2mwpN1gU7XAo4D7q5y30KzHhiJoI+KO3L7tyL5a/DJtcsFxMyu1rTjPfibwQUkrgcPTaySNl3QpQHow+3Wy2Y5LgPPStiFknf59wDKyu/kfpvPWPeuxUIrjiOgCxqX59j+TtF9EVD5hfgDcGhG/LnKu3Dk3jYMtHXmM5+Gb2VaztWbjRMTTwGFVti9l89A3ETEbmN2jzV+oUiAq7at71mOjEbSTACTNAN5I9slS4YLjZlZqTpdQRY0I2t9KOplsfuiJEZH/N3HBcTMrtU5Ml1BkGGcEcJmkQWQfDtdExC8kbQT+ANyepn5eFxHn4YLjZlZy7ZTNsqhmImirHuuC42ZWdi2YZbPNcQ1aM+s47TQ8U1TDNWhz+y+W9HzutWvQmlmp+QFtdbUiaJE0HuiZstM1aM2s1FypqopaEbTpge23gTN6HOIatGZWap04G6eZCNrTgHlVplW6Bq2ZlVpEFF7aRaMRtO8ji946pNE3dgStmQ2Urja6Yy+q0QjaDwB7AaskPQK8NuVoANegNbOS8zBOFTUiaO+KiDdFxKiIGAW8kB7IgmvQmlnJeRinuqoRtL20/xFwRbrTXw+c0Pxlmpm1TjvdsRfVcARtjzavy627Bq2ZlVo7TaksyhG0ZtZxnC7BzKwDdOIwTsPpElIK429K+p2kByV9Prf94pQu4T5JB/T3L2FmVo9OnI1T5M6+ki7h+VSC8DeSbgT+lmyK5T4R0S1p99Q+X3D8ILKC4we1/tLNzBrTTrNsimo4XQLwWbJaid2pXaVquguOm1mpba07e0nDJC2QtDL97JlLrNJuamqzUtLUtO31kpbllqckfTftO0nSn3L7Tq523rxm0iW8FfhYSnlwo6QxqbkLjptZqW3FRGhnAgsjYgywkCqFwSUNA2aQjYBMAGZI2iUinouIcZWFrFjUdblD5+T2X9rXhRTq7COiK73ZSGCCpP3IKp+/GBHjySqez+7tHFXOOSsixkfE+I/sNKqeQ83MmtIV3YWXJuUTQ14GHFOlzRFkN9HrI2IDsIBU57tC0t7A7sCvG72QZgqOr2Hzp8zPgHekdRccN7NS24oRtMNzySKfAIZXaVNkNOQEsjv5/AV9NE2CmStpT/rQcMFx4HqyHDkA7wd+l9ZdcNzMSq2eMfv8kHNapufPJekmSfdXWSbn26WOutFPjxOAq3Kv/wMYFRHvIPsmcFnVo3KaKTj+G+BKSacDzwOVBwQuOG5mpVbPWHw+Q2+N/YfX2ifpSUkjIuLxNFFlXZVma9kyg/BIYFHuHPsDgyPirtx75pNLXgp8q49fo6mC488Af19luwuOm1mpdW+9qZeVxJAz08+fV2kzH/iX3EydicBZuf0nsuVdPZUPkPTyaODBvi7EEbRm1nG2Ym6cmcA1kqaRzaY5HjaVdD0lIk6OiPWSvg4sScecFxHrc+c4nmy0JO/zko4GNpIlnDyprwtRXw8gJO0A3Eo2+2YwMDciZkg6jKws4WvIhnFOiohVkoYAlwMHkuWx/1hEPNLbe7h4iZkVNX7N9U2XOd1n93cV7nN+u25JW5RVbabg+CXAlDQl8yfAP6X2LjhuZqXWHVF4aRfNRNAG8Ia0fSjwWFp3wXEzK7WtGFRVGs1E0J4M3CBpDfAJsrEpcMFxMys539nXUCOC9nTgyIgYCfwYuKCeN3YErZkNlE68s69rNk5EPCPpFrLMlvunO3yAOcAv03olgnaNC46bWRl1RddAX8JW12gE7YPA0JSvgdw2cMFxMys5FxyvrlYE7WeAayV1AxuAT6f2LjhuZqXWTkVJimomgvZnZAnQem53wXEzK7V2umMvyhG0ZtZx2mmWTVHu7M2s47TTLJuiCku1EIIAAAb3SURBVOezT3Pt75H0i/R6tKQ7UmHxOZK2T9uHpNer0v5R/XPpZmaN2YrFS0qjnuIlX2DLzGrnAxemtAgbyNIkgNMlmFnJdeJsnKIRtCPJ0hlfml4LOJQsHQJsWW7L6RLMrNQcQVvbd4EzgMp3ml2BZ1I6BNiyjJbTJZhZqfnOvgpJRwHr8lVSWsHpEsxsoNRTlrBdFJmN8x7gaElHAjuQZbq8CNhZ0uB0954vKu50CWZWau10x15UkRTHZ0XEyIgYRRYNe3NETAFuIUuHAFuW23K6BDMrtU6cjdPMPPuvAFdL+gZwD1maBHC6BDMruXZ68FpUvVkvF5GqnkfEamBClTZOl2BmpdaJgw31zLM3M2sLWyufvaRhkhZIWpl+7lKj3S8lPVMJWs1tb1nwqjt7M+s4W3Hq5ZnAwogYAyxMr6v5NlnFv55aFrzqzt7MOs5WDKrKB5nmg0+3EBELgefy21odvFqKRGjj11zvCNtE0vSImDXQ12Hl4r+L1tr48trCfY6k6cD03KZZdfy3GB4Rj6f1J4DhRd+XOoJXJVWCV5+qdbJSdPa2hemA/09tPfnvYoCkjr3mv72km4A3Vdn1tR7nCUkD9mTYnb2ZWRMi4vBa+yQ9KWlERDwuaQSwro5TP00Lg1c9Zm9m1n/yQab54NM+pWDUlgWvqhPnm5aZx2atGv9dbJsk7QpcA7wZ+ANwfESslzQeOCUiTk7tfg3sA7yO7A59WkTMl/QW4GpgGFnw6scj4iVJOwBXkJWMXQ+ckGKfal+LO3szs/bnYRwzsw7gzt7MrAO4s++FpC5JyyTdL+mnkl470NfUKEmL0jhhz+0nSfreQFxTO5P0NUkrJN2X/oYOasE5j5ZUKwKz3nM934rz2LbDnX3v/hoR4yJiP+Bl4JSBvqBGSBo00NfQSSS9GzgKOCAi3gEcTgqAKXBszenQETEvIma25iqt07izL+7XwF6SPpwSD90j6SZJwwEkvT/dwS1L+14vaYSkW3PfDt6b2k6UdLuku9M3htel7Y9IOjdtXy5pn7T9jSmJ0gpJl0r6g6Td0r6PS7ozvce/VTp2Sc9L+ldJ9wLvzv8ikj4l6XeS7iQrTmOtNQJ4KiJeAoiIpyLisfTft/LfbbykRWn9HElXSLqNLD34Ykn7Vk5W+VZW+RYmaWj6G3hN2r+TpEclbSfprSmp1l2Sfp37Gxqd/uaWK0tLbh3GnX0B6W7rQ8By4DfAwRHxTrIpUWekZv8LODUixgHvBf4K/E9gftq2P7As/Z/9n4DDI+IAYCnwpdzbPZW2X5LOCTCDbB7tvmR5MN6crutvgY8B70nv0QVMScfsBNwREftHxG9yv8sI4FyyTv7vgLEt+CeyLf0K2DN9oP5A0vsLHDOW7G/iRGAOcDxs+u81IiKWVhpGxLPAMqBy3qPI/s5eIYv0/FxEHEj29/OD1OYi4JKIeDtQCd+3DuII2t7tKGlZWv81WWGWtwFz0v8JtwceTvtvAy6QdCVwXUSskbQEmC1pO+D6iFiW/o8/Frgt5S3aHrg9957XpZ93AR9J638H/A+AiPilpA1p+2HAgcCSdK4d2Ryh1wVcW+V3OghYFBF/ApA0B9i7vn8W601EPC/pQLIP/Q+Q/b30NdY+LyL+mtavIfvAmEHW6c+t0n4O2Qf9LWQFgn6QviH+d+Cn2pwTa0j6+R7go2n9CgpkSbT24s6+d39Nd8ybSPo/wAURMU/SIcA5ABExU9J/AkeSdeRHRMStkt4H/D3w75IuIEtTuiDdwVXzUvrZRd//fQRcFhFnVdn3YkR09f0rWn9I//aLgEWSlpNFO25k87fpHXoc8pfcsWslPS3pHWQderVnRfOAf5E0jOwD/2ayb3PP9PybzV9Wg7+OtQEP49RvKJvzU1TClZH01ohYHhHnA0uAfST9N+DJiPghcClwALAYeI+kvdJxO0nq6876NjZ/rZ8IVAogLASOlbR72jcsvWdv7gDeL2nX9I3DVcVaTNLbJI3JbRpHFj35CFnHDJvvsmuZQzZEODQi7uu5MyKeJ/s7uwj4RUR0RcSfgYclHZeuQ5L2T4fcxuYSoVN6ns/anzv7+p1D9jX5LrZMJ/rF9BD2PuAV4EbgEOBeSfeQ3aFdlIZPTgKuSm1vJwuT7s25wERJ95N1zk8Az0XEA2Tj/79K51pA9nCwppRu9Zz0vrcBDxb7ta0OrwMuk/RA+u8yluzf/FzgIklLyb659WYuWed8TS9t5gAfTz8rpgDT0oP5FWR5zwG+AJyavmXsgXUcp0vYBkgaAnSlvNXvJnvQVuurupnZq3jMftvwZuCaNNXuZeAzA3w9ZraN8Z29mVkH8Ji9mVkHcGdvZtYB3NmbmXUAd/ZmZh3Anb2ZWQf4/+EuL4KbtxS7AAAAAElFTkSuQmCC\n",
            "text/plain": [
              "<Figure size 432x288 with 2 Axes>"
            ]
          },
          "metadata": {
            "tags": [],
            "needs_background": "light"
          }
        }
      ]
    },
    {
      "cell_type": "code",
      "metadata": {
        "colab": {
          "base_uri": "https://localhost:8080/",
          "height": 551
        },
        "id": "DXYw5KaFPklL",
        "outputId": "8e27caa6-e1e0-454c-d7b2-fe867e30b4a3"
      },
      "source": [
        "import missingno as msno #distribution of missing values\n",
        "msno.bar(df,color='pink')\n",
        "plt.show()"
      ],
      "execution_count": 40,
      "outputs": [
        {
          "output_type": "display_data",
          "data": {
            "image/png": "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\n",
            "text/plain": [
              "<Figure size 1728x720 with 3 Axes>"
            ]
          },
          "metadata": {
            "tags": [],
            "needs_background": "light"
          }
        }
      ]
    },
    {
      "cell_type": "code",
      "metadata": {
        "colab": {
          "base_uri": "https://localhost:8080/",
          "height": 296
        },
        "id": "XRa_8XKyQC4a",
        "outputId": "2b354140-2d72-465f-e460-3d04723da0f9"
      },
      "source": [
        "sns.boxplot(x='Survived', y ='PassengerId',data=df)"
      ],
      "execution_count": 41,
      "outputs": [
        {
          "output_type": "execute_result",
          "data": {
            "text/plain": [
              "<matplotlib.axes._subplots.AxesSubplot at 0x7f8f81765dd0>"
            ]
          },
          "metadata": {
            "tags": []
          },
          "execution_count": 41
        },
        {
          "output_type": "display_data",
          "data": {
            "image/png": "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\n",
            "text/plain": [
              "<Figure size 432x288 with 1 Axes>"
            ]
          },
          "metadata": {
            "tags": [],
            "needs_background": "light"
          }
        }
      ]
    }
  ]
}
